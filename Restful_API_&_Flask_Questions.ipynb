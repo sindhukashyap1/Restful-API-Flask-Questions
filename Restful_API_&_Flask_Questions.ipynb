{
  "nbformat": 4,
  "nbformat_minor": 0,
  "metadata": {
    "colab": {
      "provenance": []
    },
    "kernelspec": {
      "name": "python3",
      "display_name": "Python 3"
    },
    "language_info": {
      "name": "python"
    }
  },
  "cells": [
    {
      "cell_type": "markdown",
      "source": [
        "Q1. What is a RESTful API?\n",
        "A RESTful API is an application programming interface that follows the principles of\n",
        "REST (Representational State Transfer). It uses standard HTTP methods like GET, POST,\n",
        "PUT, and DELETE to allow communication between client and server in a stateless\n",
        "manner.\n",
        "Example: A weather API that returns temperature data in JSON format when you send a\n",
        "GET request.\n",
        "\n",
        "Q2. Explain the concept of API specification.\n",
        "An API specification is a detailed description of how an API works, including endpoints,\n",
        "request formats, response formats, authentication methods, and error codes. It serves\n",
        "as a guide for developers to correctly use the API.\n",
        "Example: OpenAPI (Swagger) is a common specification format.\n",
        "\n",
        "Q3. What is Flask, and why is it popular for building APIs?\n",
        "Flask is a lightweight Python web framework used to build web applications and APIs. It\n",
        "\n",
        "is popular because it is simple, flexible, and easy to extend with libraries like Flask-\n",
        "SQLAlchemy or Flask-RESTful.\n",
        "\n",
        "Q4. What is routing in Flask?\n",
        "Routing in Flask maps a specific URL path to a function in the application. When a user\n",
        "visits that URL, the mapped function is executed.\n",
        "Example: @app.route('/hello') maps the URL /hello to a function.\n",
        "\n",
        "Q5. How do you create a simple Flask application?\n",
        "A simple Flask app can be created by importing Flask, initializing the app, and defining\n",
        "routes with functions.\n",
        "Example:\n",
        "from flask import Flask\n",
        "app = Flask(__name__)\n",
        "\n",
        "@app.route(\"/\")\n",
        "def home():\n",
        "return \"Hello, Flask!\"\n",
        "\n",
        "Q6. What are HTTP methods used in RESTful APIs?\n",
        "Common HTTP methods are:\n",
        "• GET: Retrieve data\n",
        "• POST: Create data\n",
        "• PUT/PATCH: Update data\n",
        "• DELETE: Remove data\n",
        "\n",
        "Q7. What is the purpose of the @app.route() decorator in Flask?\n",
        "The @app.route() decorator defines a URL endpoint and associates it with a function\n",
        "that should run when the endpoint is accessed.\n",
        "\n",
        "Q8. What is the diRerence between GET and POST HTTP methods?\n",
        "• GET: Used to fetch data, parameters are usually sent in the URL.\n",
        "• POST: Used to send or submit data, parameters are sent in the request body.\n",
        "\n",
        "Q9. How do you handle errors in Flask APIs?\n",
        "Errors in Flask can be handled using error handlers.\n",
        "Example:\n",
        "@app.errorhandler(404)\n",
        "def not_found(error):\n",
        "return \"Page not found\", 404\n",
        "\n",
        "Q10. How do you connect Flask to a SQL database?\n",
        "Flask can be connected to a database using extensions like Flask-SQLAlchemy. This\n",
        "provides ORM support to interact with databases more easily.\n",
        "\n",
        "Q11. What is the role of Flask-SQLAlchemy?\n",
        "Flask-SQLAlchemy is an ORM extension that simplifies working with SQL databases in\n",
        "Flask applications by allowing developers to use Python classes instead of raw SQL\n",
        "queries.\n",
        "\n",
        "Q12. What are Flask blueprints, and how are they useful?\n",
        "Blueprints help organize Flask applications by grouping related routes and functions\n",
        "together. They make it easier to structure larger projects.\n",
        "\n",
        "Q13. What is the purpose of Flask's request object?\n",
        "The request object in Flask contains data from the client’s HTTP request, such as form\n",
        "inputs, JSON payloads, headers, and query parameters.\n",
        "\n",
        "Q14. How do you create a RESTful API endpoint using Flask?\n",
        "You create an endpoint by defining a route and associating it with a function that returns\n",
        "data, usually in JSON format.\n",
        "\n",
        "Q15. What is the purpose of Flask's jsonify() function?\n",
        "jsonify() converts Python dictionaries or lists into JSON format, which is the standard\n",
        "data format for APIs.\n",
        "\n",
        "Q16. Explain Flask’s url_for() function.\n",
        "url_for() dynamically generates URLs for functions defined in the app, making code\n",
        "more maintainable by avoiding hard-coded URLs.\n",
        "\n",
        "Q17. How does Flask handle static files (CSS, JavaScript, etc.)?\n",
        "Flask serves static files from the static folder in the project directory. You can access\n",
        "them using /static/filename.\n",
        "\n",
        "Q18. What is an API specification, and how does it help in building a Flask API?\n",
        "An API specification outlines the endpoints, methods, input/output formats, and\n",
        "authentication. It ensures both developers and clients understand how to use the API\n",
        "properly.\n",
        "\n",
        "Q19. What are HTTP status codes, and why are they important in a Flask API?\n",
        "HTTP status codes indicate the result of an API request.\n",
        "Examples:\n",
        "\n",
        "• 200: Success\n",
        "• 201: Resource created\n",
        "• 400: Bad request\n",
        "• 404: Not found\n",
        "• 500: Server error\n",
        "\n",
        "Q20. How do you handle POST requests in Flask?\n",
        "POST requests are handled using the methods parameter in @app.route(). Data can be\n",
        "accessed using the request object.\n",
        "\n",
        "Q21. How would you secure a Flask API?\n",
        "Security can be achieved with:\n",
        "• Authentication (API keys, JWT)\n",
        "• Input validation\n",
        "• HTTPS for secure communication\n",
        "• Rate limiting\n",
        "\n",
        "Q22. What is the significance of the Flask-RESTful extension?\n",
        "Flask-RESTful simplifies building REST APIs by providing tools for defining resources,\n",
        "handling requests, and formatting responses.\n",
        "\n",
        "Q23. What is the role of Flask’s session object?\n",
        "The session object stores data about a user across requests, using cookies on the client\n",
        "side. It’s commonly used for login sessions."
      ],
      "metadata": {
        "id": "UQUv4S23Nx4t"
      }
    },
    {
      "cell_type": "code",
      "source": [
        "# Q1. How do you create a basic Flask application?\n",
        "from flask import Flask\n",
        "\n",
        "app = Flask(__name__)\n",
        "\n",
        "@app.route(\"/\")\n",
        "def home():\n",
        "    return \"Hello, Flask!\"\n",
        "\n",
        "# Test inside Colab\n",
        "with app.test_client() as client:\n",
        "    res = client.get(\"/\")\n",
        "    print(res.data.decode())\n"
      ],
      "metadata": {
        "colab": {
          "base_uri": "https://localhost:8080/"
        },
        "id": "kA3P7sULb05R",
        "outputId": "530dd9a7-95b3-48d4-81ed-4856e552580d"
      },
      "execution_count": null,
      "outputs": [
        {
          "output_type": "stream",
          "name": "stdout",
          "text": [
            "Hello, Flask!\n"
          ]
        }
      ]
    },
    {
      "cell_type": "code",
      "source": [
        "# Q2. How do you serve static files like images or CSS in Flask?\n",
        "from flask import Flask, send_from_directory\n",
        "\n",
        "app = Flask(__name__)\n",
        "\n",
        "@app.route(\"/static/<path:filename>\")\n",
        "def static_files(filename):\n",
        "    return send_from_directory(\"static\", filename)\n",
        "\n",
        "# Simulate output in Colab\n",
        "print(\"Static files would be served from the 'static' folder.\")\n"
      ],
      "metadata": {
        "colab": {
          "base_uri": "https://localhost:8080/"
        },
        "id": "ZM4JzBTnb0_s",
        "outputId": "e4669043-646d-4406-cce9-10c4c59c5c86"
      },
      "execution_count": null,
      "outputs": [
        {
          "output_type": "stream",
          "name": "stdout",
          "text": [
            "Static files would be served from the 'static' folder.\n"
          ]
        }
      ]
    },
    {
      "cell_type": "code",
      "source": [
        "# Q3. How do you define different routes with different HTTP methods in Flask?\n",
        "from flask import Flask, request\n",
        "\n",
        "app = Flask(__name__)\n",
        "\n",
        "@app.route(\"/greet\", methods=[\"GET\", \"POST\"])\n",
        "def greet():\n",
        "    if request.method == \"POST\":\n",
        "        return \"Hello via POST!\"\n",
        "    return \"Hello via GET!\"\n",
        "\n",
        "# Test both methods\n",
        "with app.test_client() as client:\n",
        "    print(\"GET:\", client.get(\"/greet\").data.decode())\n",
        "    print(\"POST:\", client.post(\"/greet\").data.decode())\n"
      ],
      "metadata": {
        "colab": {
          "base_uri": "https://localhost:8080/"
        },
        "id": "pNor73Zpb1He",
        "outputId": "1f909546-3e88-44f5-daa5-04878d671525"
      },
      "execution_count": null,
      "outputs": [
        {
          "output_type": "stream",
          "name": "stdout",
          "text": [
            "GET: Hello via GET!\n",
            "POST: Hello via POST!\n"
          ]
        }
      ]
    },
    {
      "cell_type": "code",
      "source": [
        "# Q4. How do you render HTML templates in Flask?\n",
        "from flask import Flask, render_template_string\n",
        "\n",
        "app = Flask(__name__)\n",
        "\n",
        "@app.route(\"/\")\n",
        "def home():\n",
        "    return render_template_string(\"<h1>Welcome, {{name}}!</h1>\", name=\"Sindhu\")\n",
        "\n",
        "with app.test_client() as client:\n",
        "    res = client.get(\"/\")\n",
        "    print(res.data.decode())\n"
      ],
      "metadata": {
        "colab": {
          "base_uri": "https://localhost:8080/"
        },
        "id": "KyOfNsOxb1Pt",
        "outputId": "32cf3632-b903-406f-acbe-2e4bddbbdcae"
      },
      "execution_count": null,
      "outputs": [
        {
          "output_type": "stream",
          "name": "stdout",
          "text": [
            "<h1>Welcome, Sindhu!</h1>\n"
          ]
        }
      ]
    },
    {
      "cell_type": "code",
      "source": [
        "# Q5. How can you generate URLs for routes in Flask using url_for?\n",
        "from flask import Flask, url_for\n",
        "\n",
        "app = Flask(__name__)\n",
        "\n",
        "@app.route(\"/hello\")\n",
        "def hello():\n",
        "    return \"Hello!\"\n",
        "\n",
        "with app.test_request_context():\n",
        "    print(\"Generated URL for hello():\", url_for(\"hello\"))\n"
      ],
      "metadata": {
        "colab": {
          "base_uri": "https://localhost:8080/"
        },
        "id": "6Srjkd0Jb1ba",
        "outputId": "f0c06c28-0bcc-42e4-94fb-e56e82ffdced"
      },
      "execution_count": null,
      "outputs": [
        {
          "output_type": "stream",
          "name": "stdout",
          "text": [
            "Generated URL for hello(): /hello\n"
          ]
        }
      ]
    },
    {
      "cell_type": "code",
      "source": [
        "# Q6. How do you handle forms in Flask?\n",
        "from flask import Flask, request\n",
        "\n",
        "app = Flask(__name__)\n",
        "\n",
        "@app.route(\"/form\", methods=[\"POST\"])\n",
        "def form():\n",
        "    name = request.form.get(\"name\", \"Guest\")\n",
        "    return f\"Hello, {name}!\"\n",
        "\n",
        "# Test form submission\n",
        "with app.test_client() as client:\n",
        "    res = client.post(\"/form\", data={\"name\": \"Sindhu\"})\n",
        "    print(res.data.decode())\n"
      ],
      "metadata": {
        "colab": {
          "base_uri": "https://localhost:8080/"
        },
        "id": "RJC0hBVTb1kK",
        "outputId": "da52805e-8ea6-4f61-8b82-6c9273fe247f"
      },
      "execution_count": null,
      "outputs": [
        {
          "output_type": "stream",
          "name": "stdout",
          "text": [
            "Hello, Sindhu!\n"
          ]
        }
      ]
    },
    {
      "cell_type": "code",
      "source": [
        "# Q7. How can you validate form data in Flask?\n",
        "from flask import Flask, request\n",
        "\n",
        "app = Flask(__name__)\n",
        "\n",
        "@app.route(\"/validate\", methods=[\"POST\"])\n",
        "def validate():\n",
        "    age = request.form.get(\"age\")\n",
        "    if age and age.isdigit() and int(age) >= 18:\n",
        "        return \"Valid: Adult\"\n",
        "    return \"Invalid: Must be 18+\"\n",
        "\n",
        "with app.test_client() as client:\n",
        "    print(client.post(\"/validate\", data={\"age\": \"20\"}).data.decode())\n",
        "    print(client.post(\"/validate\", data={\"age\": \"abc\"}).data.decode())\n"
      ],
      "metadata": {
        "colab": {
          "base_uri": "https://localhost:8080/"
        },
        "id": "3u7rQ0iKb1s7",
        "outputId": "bf7d4439-6027-485b-f5ed-e27e4ffed354"
      },
      "execution_count": null,
      "outputs": [
        {
          "output_type": "stream",
          "name": "stdout",
          "text": [
            "Valid: Adult\n",
            "Invalid: Must be 18+\n"
          ]
        }
      ]
    },
    {
      "cell_type": "code",
      "source": [
        "# Q8. How do you manage sessions in Flask?\n",
        "from flask import Flask, session\n",
        "\n",
        "app = Flask(__name__)\n",
        "app.secret_key = \"test_key\"\n",
        "\n",
        "@app.route(\"/set\")\n",
        "def set_session():\n",
        "    session[\"user\"] = \"Sindhu\"\n",
        "    return \"Session set!\"\n",
        "\n",
        "@app.route(\"/get\")\n",
        "def get_session():\n",
        "    return f\"User: {session.get('user', 'Not set')}\"\n",
        "\n",
        "with app.test_client() as client:\n",
        "    client.get(\"/set\")\n",
        "    print(client.get(\"/get\").data.decode())\n"
      ],
      "metadata": {
        "colab": {
          "base_uri": "https://localhost:8080/"
        },
        "id": "dZi_5G5jb10g",
        "outputId": "c8863ca6-cbc9-4aeb-c4d8-22306cfb8c02"
      },
      "execution_count": null,
      "outputs": [
        {
          "output_type": "stream",
          "name": "stdout",
          "text": [
            "User: Sindhu\n"
          ]
        }
      ]
    },
    {
      "cell_type": "code",
      "source": [
        "# Q9. How do you redirect to a different route in Flask?\n",
        "from flask import Flask, redirect, url_for\n",
        "\n",
        "app = Flask(__name__)\n",
        "\n",
        "@app.route(\"/start\")\n",
        "def start():\n",
        "    return redirect(url_for(\"end\"))\n",
        "\n",
        "@app.route(\"/end\")\n",
        "def end():\n",
        "    return \"Redirected here!\"\n",
        "\n",
        "with app.test_client() as client:\n",
        "    res = client.get(\"/start\", follow_redirects=True)\n",
        "    print(res.data.decode())\n"
      ],
      "metadata": {
        "colab": {
          "base_uri": "https://localhost:8080/"
        },
        "id": "n4-8wk3Sb171",
        "outputId": "ba75e19b-c659-482d-c951-4a18a67693cf"
      },
      "execution_count": null,
      "outputs": [
        {
          "output_type": "stream",
          "name": "stdout",
          "text": [
            "Redirected here!\n"
          ]
        }
      ]
    },
    {
      "cell_type": "code",
      "source": [
        "# Q10. How do you handle errors in Flask (e.g., 404)?\n",
        "from flask import Flask\n",
        "\n",
        "app = Flask(__name__)\n",
        "\n",
        "@app.errorhandler(404)\n",
        "def not_found(e):\n",
        "    return \"Custom 404 Error Page\", 404\n",
        "\n",
        "with app.test_client() as client:\n",
        "    res = client.get(\"/unknown\")\n",
        "    print(res.status_code, res.data.decode())\n"
      ],
      "metadata": {
        "colab": {
          "base_uri": "https://localhost:8080/"
        },
        "id": "YlWVW5xub2EI",
        "outputId": "1e9591c2-258e-42f8-8ce3-facdef3a5486"
      },
      "execution_count": null,
      "outputs": [
        {
          "output_type": "stream",
          "name": "stdout",
          "text": [
            "404 Custom 404 Error Page\n"
          ]
        }
      ]
    },
    {
      "cell_type": "code",
      "source": [
        "# Q11. How do you structure a Flask app using Blueprints?\n",
        "from flask import Flask, Blueprint\n",
        "\n",
        "bp = Blueprint(\"simple_bp\", __name__)\n",
        "\n",
        "@bp.route(\"/hello\")\n",
        "def hello_bp():\n",
        "    return \"Hello from Blueprint!\"\n",
        "\n",
        "app = Flask(__name__)\n",
        "app.register_blueprint(bp, url_prefix=\"/bp\")\n",
        "\n",
        "with app.test_client() as client:\n",
        "    print(client.get(\"/bp/hello\").data.decode())\n"
      ],
      "metadata": {
        "colab": {
          "base_uri": "https://localhost:8080/"
        },
        "id": "0ED7eIuWb2Lt",
        "outputId": "52455bd3-02d6-4c0c-d790-208eb6ba6ef7"
      },
      "execution_count": null,
      "outputs": [
        {
          "output_type": "stream",
          "name": "stdout",
          "text": [
            "Hello from Blueprint!\n"
          ]
        }
      ]
    },
    {
      "cell_type": "code",
      "source": [
        "# Q12. How do you define a custom Jinja filter in Flask?\n",
        "from flask import Flask\n",
        "\n",
        "app = Flask(__name__)\n",
        "\n",
        "@app.template_filter(\"reverse\")\n",
        "def reverse_filter(s):\n",
        "    return s[::-1]\n",
        "\n",
        "@app.route(\"/\")\n",
        "def home():\n",
        "    return app.jinja_env.from_string(\"{{ 'Sindhu'|reverse }}\").render()\n",
        "\n",
        "with app.test_client() as client:\n",
        "    print(client.get(\"/\").data.decode())\n"
      ],
      "metadata": {
        "colab": {
          "base_uri": "https://localhost:8080/"
        },
        "id": "74cjYNrwb2Uy",
        "outputId": "4dd748e2-3f7e-463c-cd96-fcde360db01d"
      },
      "execution_count": null,
      "outputs": [
        {
          "output_type": "stream",
          "name": "stdout",
          "text": [
            "uhdniS\n"
          ]
        }
      ]
    },
    {
      "cell_type": "code",
      "source": [
        "# Q13. How can you redirect with query parameters in Flask?\n",
        "from flask import Flask, redirect, url_for, request\n",
        "\n",
        "app = Flask(__name__)\n",
        "\n",
        "@app.route(\"/start\")\n",
        "def start():\n",
        "    return redirect(url_for(\"end\", name=\"Sindhu\"))\n",
        "\n",
        "@app.route(\"/end\")\n",
        "def end():\n",
        "    name = request.args.get(\"name\", \"Guest\")\n",
        "    return f\"Hello, {name}!\"\n",
        "\n",
        "with app.test_client() as client:\n",
        "    print(client.get(\"/start\", follow_redirects=True).data.decode())\n"
      ],
      "metadata": {
        "colab": {
          "base_uri": "https://localhost:8080/"
        },
        "id": "FjLHJN_3b2do",
        "outputId": "dd0ba7dc-ca93-445f-84fe-a5a323542266"
      },
      "execution_count": null,
      "outputs": [
        {
          "output_type": "stream",
          "name": "stdout",
          "text": [
            "Hello, Sindhu!\n"
          ]
        }
      ]
    },
    {
      "cell_type": "code",
      "source": [
        "# Q14. How do you return JSON responses in Flask?\n",
        "from flask import Flask, jsonify\n",
        "\n",
        "app = Flask(__name__)\n",
        "\n",
        "@app.route(\"/json\")\n",
        "def json_response():\n",
        "    return jsonify({\"name\": \"Sindhu\", \"age\": 22})\n",
        "\n",
        "with app.test_client() as client:\n",
        "    print(client.get(\"/json\").json)\n"
      ],
      "metadata": {
        "colab": {
          "base_uri": "https://localhost:8080/"
        },
        "id": "N__GK0lqb2n0",
        "outputId": "13b7c5a4-1ec1-45ae-e732-22fb2b424c39"
      },
      "execution_count": null,
      "outputs": [
        {
          "output_type": "stream",
          "name": "stdout",
          "text": [
            "{'age': 22, 'name': 'Sindhu'}\n"
          ]
        }
      ]
    },
    {
      "cell_type": "code",
      "source": [
        "# Q15. How do you capture URL parameters in Flask?\n",
        "from flask import Flask\n",
        "\n",
        "app = Flask(__name__)\n",
        "\n",
        "@app.route(\"/user/<username>\")\n",
        "def user_profile(username):\n",
        "    return f\"Profile page of {username}\"\n",
        "\n",
        "with app.test_client() as client:\n",
        "    print(client.get(\"/user/Sindhu\").data.decode())\n"
      ],
      "metadata": {
        "id": "x-YbyOK8b2xP"
      },
      "execution_count": null,
      "outputs": []
    }
  ]
}